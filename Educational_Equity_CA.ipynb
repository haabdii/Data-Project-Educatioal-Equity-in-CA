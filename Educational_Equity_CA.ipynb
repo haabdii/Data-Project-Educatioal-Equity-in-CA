{
 "cells": [
  {
   "cell_type": "markdown",
   "metadata": {},
   "source": [
    "# On Educational Equity in California "
   ]
  },
  {
   "cell_type": "markdown",
   "metadata": {},
   "source": [
    "## Introduction\n",
    "Educational equity, also referred to as equity in education, is a measure of achievement, fairness, and opportunity in education. In an academic system that practices educational equity, factors specific to one's personal conditions should not interfere with the potential of academic success. Such academic system serves as a strong foundation for a society that is fair and thriving. However, inequity in education is challenging to avoid, and can be broken down into inequity due to socioeconomic standing, race, gender or disability. \n",
    "\n",
    "In the following study, we take a closer look at the status of educational equity in the state of California by analyzing the data on age, education level, gender, ethnicity and sexual orientation of approximately 50000 California residents.  "
   ]
  },
  {
   "cell_type": "markdown",
   "metadata": {},
   "source": [
    "## Loading, Understanding and Cleaning the Data\n",
    "The Data is provided by  OkCupid, an online dating app. Let's first load the data:"
   ]
  },
  {
   "cell_type": "code",
   "execution_count": 1,
   "metadata": {},
   "outputs": [
    {
     "name": "stdout",
     "output_type": "stream",
     "text": [
      "Index(['age', 'body_type', 'diet', 'drinks', 'drugs', 'education', 'essay0',\n",
      "       'essay1', 'essay2', 'essay3', 'essay4', 'essay5', 'essay6', 'essay7',\n",
      "       'essay8', 'essay9', 'ethnicity', 'height', 'income', 'job',\n",
      "       'last_online', 'location', 'offspring', 'orientation', 'pets',\n",
      "       'religion', 'sex', 'sign', 'smokes', 'speaks', 'status'],\n",
      "      dtype='object')\n",
      "(59946, 31)\n"
     ]
    },
    {
     "data": {
      "text/html": [
       "<div>\n",
       "<style scoped>\n",
       "    .dataframe tbody tr th:only-of-type {\n",
       "        vertical-align: middle;\n",
       "    }\n",
       "\n",
       "    .dataframe tbody tr th {\n",
       "        vertical-align: top;\n",
       "    }\n",
       "\n",
       "    .dataframe thead th {\n",
       "        text-align: right;\n",
       "    }\n",
       "</style>\n",
       "<table border=\"1\" class=\"dataframe\">\n",
       "  <thead>\n",
       "    <tr style=\"text-align: right;\">\n",
       "      <th></th>\n",
       "      <th>age</th>\n",
       "      <th>body_type</th>\n",
       "      <th>diet</th>\n",
       "      <th>drinks</th>\n",
       "      <th>drugs</th>\n",
       "      <th>education</th>\n",
       "      <th>essay0</th>\n",
       "      <th>essay1</th>\n",
       "      <th>essay2</th>\n",
       "      <th>essay3</th>\n",
       "      <th>...</th>\n",
       "      <th>location</th>\n",
       "      <th>offspring</th>\n",
       "      <th>orientation</th>\n",
       "      <th>pets</th>\n",
       "      <th>religion</th>\n",
       "      <th>sex</th>\n",
       "      <th>sign</th>\n",
       "      <th>smokes</th>\n",
       "      <th>speaks</th>\n",
       "      <th>status</th>\n",
       "    </tr>\n",
       "  </thead>\n",
       "  <tbody>\n",
       "    <tr>\n",
       "      <th>0</th>\n",
       "      <td>22</td>\n",
       "      <td>a little extra</td>\n",
       "      <td>strictly anything</td>\n",
       "      <td>socially</td>\n",
       "      <td>never</td>\n",
       "      <td>working on college/university</td>\n",
       "      <td>about me:&lt;br /&gt;\\n&lt;br /&gt;\\ni would love to think...</td>\n",
       "      <td>currently working as an international agent fo...</td>\n",
       "      <td>making people laugh.&lt;br /&gt;\\nranting about a go...</td>\n",
       "      <td>the way i look. i am a six foot half asian, ha...</td>\n",
       "      <td>...</td>\n",
       "      <td>south san francisco, california</td>\n",
       "      <td>doesn&amp;rsquo;t have kids, but might want them</td>\n",
       "      <td>straight</td>\n",
       "      <td>likes dogs and likes cats</td>\n",
       "      <td>agnosticism and very serious about it</td>\n",
       "      <td>m</td>\n",
       "      <td>gemini</td>\n",
       "      <td>sometimes</td>\n",
       "      <td>english</td>\n",
       "      <td>single</td>\n",
       "    </tr>\n",
       "    <tr>\n",
       "      <th>1</th>\n",
       "      <td>35</td>\n",
       "      <td>average</td>\n",
       "      <td>mostly other</td>\n",
       "      <td>often</td>\n",
       "      <td>sometimes</td>\n",
       "      <td>working on space camp</td>\n",
       "      <td>i am a chef: this is what that means.&lt;br /&gt;\\n1...</td>\n",
       "      <td>dedicating everyday to being an unbelievable b...</td>\n",
       "      <td>being silly. having ridiculous amonts of fun w...</td>\n",
       "      <td>NaN</td>\n",
       "      <td>...</td>\n",
       "      <td>oakland, california</td>\n",
       "      <td>doesn&amp;rsquo;t have kids, but might want them</td>\n",
       "      <td>straight</td>\n",
       "      <td>likes dogs and likes cats</td>\n",
       "      <td>agnosticism but not too serious about it</td>\n",
       "      <td>m</td>\n",
       "      <td>cancer</td>\n",
       "      <td>no</td>\n",
       "      <td>english (fluently), spanish (poorly), french (...</td>\n",
       "      <td>single</td>\n",
       "    </tr>\n",
       "    <tr>\n",
       "      <th>2</th>\n",
       "      <td>38</td>\n",
       "      <td>thin</td>\n",
       "      <td>anything</td>\n",
       "      <td>socially</td>\n",
       "      <td>NaN</td>\n",
       "      <td>graduated from masters program</td>\n",
       "      <td>i'm not ashamed of much, but writing public te...</td>\n",
       "      <td>i make nerdy software for musicians, artists, ...</td>\n",
       "      <td>improvising in different contexts. alternating...</td>\n",
       "      <td>my large jaw and large glasses are the physica...</td>\n",
       "      <td>...</td>\n",
       "      <td>san francisco, california</td>\n",
       "      <td>NaN</td>\n",
       "      <td>straight</td>\n",
       "      <td>has cats</td>\n",
       "      <td>NaN</td>\n",
       "      <td>m</td>\n",
       "      <td>pisces but it doesn&amp;rsquo;t matter</td>\n",
       "      <td>no</td>\n",
       "      <td>english, french, c++</td>\n",
       "      <td>available</td>\n",
       "    </tr>\n",
       "    <tr>\n",
       "      <th>3</th>\n",
       "      <td>23</td>\n",
       "      <td>thin</td>\n",
       "      <td>vegetarian</td>\n",
       "      <td>socially</td>\n",
       "      <td>NaN</td>\n",
       "      <td>working on college/university</td>\n",
       "      <td>i work in a library and go to school. . .</td>\n",
       "      <td>reading things written by old dead people</td>\n",
       "      <td>playing synthesizers and organizing books acco...</td>\n",
       "      <td>socially awkward but i do my best</td>\n",
       "      <td>...</td>\n",
       "      <td>berkeley, california</td>\n",
       "      <td>doesn&amp;rsquo;t want kids</td>\n",
       "      <td>straight</td>\n",
       "      <td>likes cats</td>\n",
       "      <td>NaN</td>\n",
       "      <td>m</td>\n",
       "      <td>pisces</td>\n",
       "      <td>no</td>\n",
       "      <td>english, german (poorly)</td>\n",
       "      <td>single</td>\n",
       "    </tr>\n",
       "    <tr>\n",
       "      <th>4</th>\n",
       "      <td>29</td>\n",
       "      <td>athletic</td>\n",
       "      <td>NaN</td>\n",
       "      <td>socially</td>\n",
       "      <td>never</td>\n",
       "      <td>graduated from college/university</td>\n",
       "      <td>hey how's it going? currently vague on the pro...</td>\n",
       "      <td>work work work work + play</td>\n",
       "      <td>creating imagery to look at:&lt;br /&gt;\\nhttp://bag...</td>\n",
       "      <td>i smile a lot and my inquisitive nature</td>\n",
       "      <td>...</td>\n",
       "      <td>san francisco, california</td>\n",
       "      <td>NaN</td>\n",
       "      <td>straight</td>\n",
       "      <td>likes dogs and likes cats</td>\n",
       "      <td>NaN</td>\n",
       "      <td>m</td>\n",
       "      <td>aquarius</td>\n",
       "      <td>no</td>\n",
       "      <td>english</td>\n",
       "      <td>single</td>\n",
       "    </tr>\n",
       "  </tbody>\n",
       "</table>\n",
       "<p>5 rows × 31 columns</p>\n",
       "</div>"
      ],
      "text/plain": [
       "   age       body_type               diet    drinks      drugs  \\\n",
       "0   22  a little extra  strictly anything  socially      never   \n",
       "1   35         average       mostly other     often  sometimes   \n",
       "2   38            thin           anything  socially        NaN   \n",
       "3   23            thin         vegetarian  socially        NaN   \n",
       "4   29        athletic                NaN  socially      never   \n",
       "\n",
       "                           education  \\\n",
       "0      working on college/university   \n",
       "1              working on space camp   \n",
       "2     graduated from masters program   \n",
       "3      working on college/university   \n",
       "4  graduated from college/university   \n",
       "\n",
       "                                              essay0  \\\n",
       "0  about me:<br />\\n<br />\\ni would love to think...   \n",
       "1  i am a chef: this is what that means.<br />\\n1...   \n",
       "2  i'm not ashamed of much, but writing public te...   \n",
       "3          i work in a library and go to school. . .   \n",
       "4  hey how's it going? currently vague on the pro...   \n",
       "\n",
       "                                              essay1  \\\n",
       "0  currently working as an international agent fo...   \n",
       "1  dedicating everyday to being an unbelievable b...   \n",
       "2  i make nerdy software for musicians, artists, ...   \n",
       "3          reading things written by old dead people   \n",
       "4                         work work work work + play   \n",
       "\n",
       "                                              essay2  \\\n",
       "0  making people laugh.<br />\\nranting about a go...   \n",
       "1  being silly. having ridiculous amonts of fun w...   \n",
       "2  improvising in different contexts. alternating...   \n",
       "3  playing synthesizers and organizing books acco...   \n",
       "4  creating imagery to look at:<br />\\nhttp://bag...   \n",
       "\n",
       "                                              essay3  ...  \\\n",
       "0  the way i look. i am a six foot half asian, ha...  ...   \n",
       "1                                                NaN  ...   \n",
       "2  my large jaw and large glasses are the physica...  ...   \n",
       "3                  socially awkward but i do my best  ...   \n",
       "4            i smile a lot and my inquisitive nature  ...   \n",
       "\n",
       "                          location  \\\n",
       "0  south san francisco, california   \n",
       "1              oakland, california   \n",
       "2        san francisco, california   \n",
       "3             berkeley, california   \n",
       "4        san francisco, california   \n",
       "\n",
       "                                      offspring orientation  \\\n",
       "0  doesn&rsquo;t have kids, but might want them    straight   \n",
       "1  doesn&rsquo;t have kids, but might want them    straight   \n",
       "2                                           NaN    straight   \n",
       "3                       doesn&rsquo;t want kids    straight   \n",
       "4                                           NaN    straight   \n",
       "\n",
       "                        pets                                  religion sex  \\\n",
       "0  likes dogs and likes cats     agnosticism and very serious about it   m   \n",
       "1  likes dogs and likes cats  agnosticism but not too serious about it   m   \n",
       "2                   has cats                                       NaN   m   \n",
       "3                 likes cats                                       NaN   m   \n",
       "4  likes dogs and likes cats                                       NaN   m   \n",
       "\n",
       "                                 sign     smokes  \\\n",
       "0                              gemini  sometimes   \n",
       "1                              cancer         no   \n",
       "2  pisces but it doesn&rsquo;t matter         no   \n",
       "3                              pisces         no   \n",
       "4                            aquarius         no   \n",
       "\n",
       "                                              speaks     status  \n",
       "0                                            english     single  \n",
       "1  english (fluently), spanish (poorly), french (...     single  \n",
       "2                               english, french, c++  available  \n",
       "3                           english, german (poorly)     single  \n",
       "4                                            english     single  \n",
       "\n",
       "[5 rows x 31 columns]"
      ]
     },
     "execution_count": 1,
     "metadata": {},
     "output_type": "execute_result"
    }
   ],
   "source": [
    "# Importing the necessary Python packages, loading the data into a Pandas dataframe,\n",
    "# and providing some preliminary information on the dataset \n",
    "\n",
    "import pandas as pd\n",
    "import numpy as np\n",
    "import matplotlib.pyplot as plt\n",
    "\n",
    "df = pd.read_csv('profiles.csv')\n",
    "\n",
    "print(df.columns)\n",
    "print(df.shape)\n",
    "\n",
    "df.head()"
   ]
  },
  {
   "cell_type": "markdown",
   "metadata": {},
   "source": [
    "The dataset has 59946 rows and 31 columns. The columns that we are interested in are: age, education, ethnicity, income, location, orientation, religion and sex.\n",
    "\n",
    "Let's try to understand these columns further:"
   ]
  },
  {
   "cell_type": "code",
   "execution_count": 2,
   "metadata": {},
   "outputs": [
    {
     "name": "stdout",
     "output_type": "stream",
     "text": [
      "0.9984819671037267\n"
     ]
    }
   ],
   "source": [
    "# This block ensures that above 99% of the data is from CA residents\n",
    "\n",
    "location_list = df['location'].value_counts().index.tolist()\n",
    "counter_CA = 0\n",
    "for i in range(len(location_list)):\n",
    "    if 'california' in location_list[i]:\n",
    "        counter_CA += df['location'].value_counts()[i]\n",
    "\n",
    "CA_population_percentage_in_dataset = counter_CA/df.shape[0]\n",
    "print(CA_population_percentage_in_dataset)\n",
    "        "
   ]
  },
  {
   "cell_type": "code",
   "execution_count": 3,
   "metadata": {},
   "outputs": [
    {
     "name": "stderr",
     "output_type": "stream",
     "text": [
      "/miniconda3/lib/python3.7/site-packages/ipykernel_launcher.py:6: MatplotlibDeprecationWarning: Adding an axes using the same arguments as a previous axes currently reuses the earlier instance.  In a future version, a new instance will always be created and returned.  Meanwhile, this warning can be suppressed, and the future behavior ensured, by passing a unique label to each axes instance.\n",
      "  \n"
     ]
    },
    {
     "data": {
      "image/png": "[encoded data removed]",
      "text/plain": [
       "<Figure size 432x288 with 1 Axes>"
      ]
     },
     "metadata": {
      "needs_background": "light"
     },
     "output_type": "display_data"
    },
    {
     "name": "stdout",
     "output_type": "stream",
     "text": [
      "32.3402895939679\n",
      "30.0\n",
      "18\n",
      "110\n"
     ]
    }
   ],
   "source": [
    "# Histogram of ages \n",
    "\n",
    "plt.hist(df.age, range=(18, 81), bins=9)\n",
    "plt.xlabel(\"Age\")\n",
    "plt.ylabel(\"Frequency\")\n",
    "ax = plt.subplot()\n",
    "ax.set_xticks([18+7*i for i in range(10)])\n",
    "plt.show()\n",
    "\n",
    "# Age statistics\n",
    "\n",
    "print(df['age'].mean())\n",
    "print(df['age'].median())\n",
    "print(df['age'].min())\n",
    "print(df['age'].max())"
   ]
  },
  {
   "cell_type": "code",
   "execution_count": 4,
   "metadata": {},
   "outputs": [
    {
     "data": {
      "text/plain": [
       "0"
      ]
     },
     "execution_count": 4,
     "metadata": {},
     "output_type": "execute_result"
    }
   ],
   "source": [
    "# The number of missing data in \"age\" column\n",
    "df['age'].isna().sum()"
   ]
  },
  {
   "cell_type": "code",
   "execution_count": 5,
   "metadata": {},
   "outputs": [
    {
     "data": {
      "text/plain": [
       "-1          48442\n",
       " 20000       2952\n",
       " 100000      1621\n",
       " 80000       1111\n",
       " 30000       1048\n",
       " 40000       1005\n",
       " 50000        975\n",
       " 60000        736\n",
       " 70000        707\n",
       " 150000       631\n",
       " 1000000      521\n",
       " 250000       149\n",
       " 500000        48\n",
       "Name: income, dtype: int64"
      ]
     },
     "execution_count": 5,
     "metadata": {},
     "output_type": "execute_result"
    }
   ],
   "source": [
    "# The unique responses in \"income\" column\n",
    "df.income.value_counts()"
   ]
  },
  {
   "cell_type": "markdown",
   "metadata": {},
   "source": [
    "More than 80% of the individuals have reported zero income. Let's take a look at their jobs:"
   ]
  },
  {
   "cell_type": "code",
   "execution_count": 6,
   "metadata": {},
   "outputs": [
    {
     "data": {
      "text/plain": [
       "other                                6048\n",
       "student                              3890\n",
       "science / tech / engineering         3872\n",
       "computer / hardware / software       3553\n",
       "sales / marketing / biz dev          3521\n",
       "artistic / musical / writer          3397\n",
       "medicine / health                    3031\n",
       "education / academia                 2775\n",
       "banking / financial / real estate    1901\n",
       "executive / management               1816\n",
       "entertainment / media                1789\n",
       "law / legal services                 1164\n",
       "hospitality / travel                 1019\n",
       "construction / craftsmanship          664\n",
       "clerical / administrative             601\n",
       "political / government                513\n",
       "rather not say                        347\n",
       "transportation                        226\n",
       "retired                               180\n",
       "unemployed                            172\n",
       "military                              106\n",
       "Name: job, dtype: int64"
      ]
     },
     "execution_count": 6,
     "metadata": {},
     "output_type": "execute_result"
    }
   ],
   "source": [
    "# The unique jobs of the individuals who have reported no income\n",
    "df[df['income'] == -1]['job'].value_counts()"
   ]
  },
  {
   "cell_type": "markdown",
   "metadata": {},
   "source": [
    "Most of the individuals who have reported zero income have jobs. Therefore, it seems most of them did not report their actual income on OkCupid. As a result, the \"income\" column is not reliable."
   ]
  },
  {
   "cell_type": "code",
   "execution_count": 7,
   "metadata": {},
   "outputs": [
    {
     "data": {
      "text/plain": [
       "20226"
      ]
     },
     "execution_count": 7,
     "metadata": {},
     "output_type": "execute_result"
    }
   ],
   "source": [
    "# The number of individuals who did not report their religion\n",
    "df['religion'].isna().sum()"
   ]
  },
  {
   "cell_type": "markdown",
   "metadata": {},
   "source": [
    "Approximately 33% of the individuals did not report their religion."
   ]
  },
  {
   "cell_type": "code",
   "execution_count": 8,
   "metadata": {},
   "outputs": [
    {
     "data": {
      "text/plain": [
       "white                                                                                                      32831\n",
       "asian                                                                                                       6134\n",
       "hispanic / latin                                                                                            2823\n",
       "black                                                                                                       2008\n",
       "other                                                                                                       1706\n",
       "hispanic / latin, white                                                                                     1301\n",
       "indian                                                                                                      1077\n",
       "asian, white                                                                                                 811\n",
       "white, other                                                                                                 641\n",
       "pacific islander                                                                                             432\n",
       "asian, pacific islander                                                                                      395\n",
       "native american, white                                                                                       338\n",
       "middle eastern                                                                                               329\n",
       "middle eastern, white                                                                                        300\n",
       "black, white                                                                                                 298\n",
       "pacific islander, white                                                                                      156\n",
       "hispanic / latin, other                                                                                      138\n",
       "black, other                                                                                                 133\n",
       "black, hispanic / latin                                                                                      119\n",
       "hispanic / latin, white, other                                                                               117\n",
       "black, native american, white                                                                                110\n",
       "black, native american                                                                                       100\n",
       "asian, other                                                                                                  95\n",
       "asian, hispanic / latin                                                                                       88\n",
       "native american, hispanic / latin, white                                                                      87\n",
       "native american, hispanic / latin                                                                             73\n",
       "asian, white, other                                                                                           69\n",
       "native american                                                                                               67\n",
       "asian, middle eastern, black, native american, indian, pacific islander, hispanic / latin, white, other       66\n",
       "asian, black                                                                                                  59\n",
       "                                                                                                           ...  \n",
       "asian, black, native american, indian, hispanic / latin, white, other                                          1\n",
       "asian, indian, pacific islander, hispanic / latin, white, other                                                1\n",
       "asian, middle eastern, native american, pacific islander, white, other                                         1\n",
       "asian, middle eastern, black, native american, hispanic / latin, white                                         1\n",
       "asian, native american, indian, pacific islander, hispanic / latin, white                                      1\n",
       "native american, indian, white                                                                                 1\n",
       "middle eastern, indian, white                                                                                  1\n",
       "asian, native american, hispanic / latin, other                                                                1\n",
       "black, native american, pacific islander, other                                                                1\n",
       "middle eastern, black, indian, pacific islander, hispanic / latin, white                                       1\n",
       "asian, black, pacific islander, hispanic / latin, white                                                        1\n",
       "middle eastern, black, native american, indian                                                                 1\n",
       "black, native american, indian, white                                                                          1\n",
       "asian, middle eastern, other                                                                                   1\n",
       "asian, middle eastern, black, white, other                                                                     1\n",
       "asian, indian, hispanic / latin, other                                                                         1\n",
       "asian, black, native american, pacific islander, white, other                                                  1\n",
       "asian, middle eastern, indian, hispanic / latin, white, other                                                  1\n",
       "black, native american, pacific islander, hispanic / latin                                                     1\n",
       "asian, indian, hispanic / latin, white                                                                         1\n",
       "asian, black, native american, indian, pacific islander, hispanic / latin                                      1\n",
       "black, native american, indian                                                                                 1\n",
       "asian, middle eastern, black, native american, indian, pacific islander, hispanic / latin                      1\n",
       "black, native american, indian, hispanic / latin, white, other                                                 1\n",
       "asian, black, pacific islander, white, other                                                                   1\n",
       "asian, middle eastern, indian, hispanic / latin                                                                1\n",
       "middle eastern, black, native american, hispanic / latin, white                                                1\n",
       "asian, middle eastern, hispanic / latin, white, other                                                          1\n",
       "middle eastern, black, hispanic / latin                                                                        1\n",
       "asian, middle eastern, native american, hispanic / latin, white                                                1\n",
       "Name: ethnicity, Length: 217, dtype: int64"
      ]
     },
     "execution_count": 8,
     "metadata": {},
     "output_type": "execute_result"
    }
   ],
   "source": [
    "# The unique responses in \"ethnicity\" column\n",
    "df['ethnicity'].value_counts()"
   ]
  },
  {
   "cell_type": "code",
   "execution_count": 9,
   "metadata": {},
   "outputs": [
    {
     "data": {
      "text/plain": [
       "5680"
      ]
     },
     "execution_count": 9,
     "metadata": {},
     "output_type": "execute_result"
    }
   ],
   "source": [
    "# The number of missing data in \"ethnicity\" column\n",
    "df['ethnicity'].isna().sum()"
   ]
  },
  {
   "cell_type": "markdown",
   "metadata": {},
   "source": [
    "Around 10% of the individuals did not report their ethnicity. We'll deal with this as we move forward.  "
   ]
  },
  {
   "cell_type": "code",
   "execution_count": 10,
   "metadata": {},
   "outputs": [
    {
     "name": "stdout",
     "output_type": "stream",
     "text": [
      "straight    51606\n",
      "gay          5573\n",
      "bisexual     2767\n",
      "Name: orientation, dtype: int64\n",
      "0\n"
     ]
    }
   ],
   "source": [
    "# The unique responses in the \"orientation\" column\n",
    "print(df['orientation'].value_counts())\n",
    "# The number of missing data in \"ethnicity\" column\n",
    "print(df['orientation'].isna().sum())"
   ]
  },
  {
   "cell_type": "code",
   "execution_count": 11,
   "metadata": {},
   "outputs": [
    {
     "name": "stdout",
     "output_type": "stream",
     "text": [
      "m    35829\n",
      "f    24117\n",
      "Name: sex, dtype: int64\n",
      "0\n"
     ]
    }
   ],
   "source": [
    "# The unique responses in the \"sex\" column\n",
    "print(df['sex'].value_counts())\n",
    "# The number of missing data in the \"sex\" column\n",
    "print(df['sex'].isna().sum())"
   ]
  },
  {
   "cell_type": "code",
   "execution_count": 12,
   "metadata": {},
   "outputs": [
    {
     "name": "stdout",
     "output_type": "stream",
     "text": [
      "graduated from college/university    23959\n",
      "graduated from masters program        8961\n",
      "working on college/university         5712\n",
      "working on masters program            1683\n",
      "graduated from two-year college       1531\n",
      "graduated from high school            1428\n",
      "graduated from ph.d program           1272\n",
      "graduated from law school             1122\n",
      "working on two-year college           1074\n",
      "dropped out of college/university      995\n",
      "working on ph.d program                983\n",
      "college/university                     801\n",
      "graduated from space camp              657\n",
      "dropped out of space camp              523\n",
      "graduated from med school              446\n",
      "working on space camp                  445\n",
      "working on law school                  269\n",
      "two-year college                       222\n",
      "working on med school                  212\n",
      "dropped out of two-year college        191\n",
      "dropped out of masters program         140\n",
      "masters program                        136\n",
      "dropped out of ph.d program            127\n",
      "dropped out of high school             102\n",
      "high school                             96\n",
      "working on high school                  87\n",
      "space camp                              58\n",
      "ph.d program                            26\n",
      "law school                              19\n",
      "dropped out of law school               18\n",
      "dropped out of med school               12\n",
      "med school                              11\n",
      "Name: education, dtype: int64\n",
      "6628\n"
     ]
    }
   ],
   "source": [
    "# The unique responses in the \"education\" column\n",
    "print(df['education'].value_counts())\n",
    "# The number of missing data in \"education\" column\n",
    "print(df['education'].isna().sum())"
   ]
  },
  {
   "cell_type": "markdown",
   "metadata": {},
   "source": [
    "Around 11% of the individuals did not report their education level. \n",
    "\n",
    "We completely drop the \"incme\" and \"religion\" columns. We also remove the missing rows in \"education\" and \"ethnicity\" columns. The \"sex\", \"orientation\" and \"age\" columns have no missing data and remain as is. \"equity_df\" is the dataframe that we use to conduct our educational equity study. "
   ]
  },
  {
   "cell_type": "code",
   "execution_count": 13,
   "metadata": {},
   "outputs": [
    {
     "name": "stderr",
     "output_type": "stream",
     "text": [
      "/miniconda3/lib/python3.7/site-packages/ipykernel_launcher.py:5: SettingWithCopyWarning: \n",
      "A value is trying to be set on a copy of a slice from a DataFrame\n",
      "\n",
      "See the caveats in the documentation: http://pandas.pydata.org/pandas-docs/stable/indexing.html#indexing-view-versus-copy\n",
      "  \"\"\"\n"
     ]
    }
   ],
   "source": [
    "# Forming the \"equity_df\" dataframe and cleaning the data\n",
    "\n",
    "equity_df = df[['age', 'education', 'ethnicity', 'orientation', 'sex']]\n",
    "\n",
    "equity_df.dropna(inplace=True)\n",
    "equity_df.reset_index(inplace=True)"
   ]
  },
  {
   "cell_type": "code",
   "execution_count": 14,
   "metadata": {},
   "outputs": [
    {
     "name": "stdout",
     "output_type": "stream",
     "text": [
      "(48774, 5)\n"
     ]
    },
    {
     "name": "stderr",
     "output_type": "stream",
     "text": [
      "/miniconda3/lib/python3.7/site-packages/pandas/core/frame.py:3940: SettingWithCopyWarning: \n",
      "A value is trying to be set on a copy of a slice from a DataFrame\n",
      "\n",
      "See the caveats in the documentation: http://pandas.pydata.org/pandas-docs/stable/indexing.html#indexing-view-versus-copy\n",
      "  errors=errors)\n"
     ]
    },
    {
     "data": {
      "text/html": [
       "<div>\n",
       "<style scoped>\n",
       "    .dataframe tbody tr th:only-of-type {\n",
       "        vertical-align: middle;\n",
       "    }\n",
       "\n",
       "    .dataframe tbody tr th {\n",
       "        vertical-align: top;\n",
       "    }\n",
       "\n",
       "    .dataframe thead th {\n",
       "        text-align: right;\n",
       "    }\n",
       "</style>\n",
       "<table border=\"1\" class=\"dataframe\">\n",
       "  <thead>\n",
       "    <tr style=\"text-align: right;\">\n",
       "      <th></th>\n",
       "      <th>age</th>\n",
       "      <th>education</th>\n",
       "      <th>ethnicity</th>\n",
       "      <th>orientation</th>\n",
       "      <th>sex</th>\n",
       "    </tr>\n",
       "  </thead>\n",
       "  <tbody>\n",
       "    <tr>\n",
       "      <th>0</th>\n",
       "      <td>22</td>\n",
       "      <td>working on college/university</td>\n",
       "      <td>asian, white</td>\n",
       "      <td>straight</td>\n",
       "      <td>m</td>\n",
       "    </tr>\n",
       "    <tr>\n",
       "      <th>1</th>\n",
       "      <td>35</td>\n",
       "      <td>working on space camp</td>\n",
       "      <td>white</td>\n",
       "      <td>straight</td>\n",
       "      <td>m</td>\n",
       "    </tr>\n",
       "    <tr>\n",
       "      <th>2</th>\n",
       "      <td>23</td>\n",
       "      <td>working on college/university</td>\n",
       "      <td>white</td>\n",
       "      <td>straight</td>\n",
       "      <td>m</td>\n",
       "    </tr>\n",
       "    <tr>\n",
       "      <th>3</th>\n",
       "      <td>29</td>\n",
       "      <td>graduated from college/university</td>\n",
       "      <td>asian, black, other</td>\n",
       "      <td>straight</td>\n",
       "      <td>m</td>\n",
       "    </tr>\n",
       "    <tr>\n",
       "      <th>4</th>\n",
       "      <td>29</td>\n",
       "      <td>graduated from college/university</td>\n",
       "      <td>white</td>\n",
       "      <td>straight</td>\n",
       "      <td>m</td>\n",
       "    </tr>\n",
       "  </tbody>\n",
       "</table>\n",
       "</div>"
      ],
      "text/plain": [
       "   age                          education            ethnicity orientation sex\n",
       "0   22      working on college/university         asian, white    straight   m\n",
       "1   35              working on space camp                white    straight   m\n",
       "2   23      working on college/university                white    straight   m\n",
       "3   29  graduated from college/university  asian, black, other    straight   m\n",
       "4   29  graduated from college/university                white    straight   m"
      ]
     },
     "execution_count": 14,
     "metadata": {},
     "output_type": "execute_result"
    }
   ],
   "source": [
    "equity_df.drop(columns={'index'}, inplace=True)\n",
    "print(equity_df.shape)\n",
    "equity_df.head()"
   ]
  },
  {
   "cell_type": "markdown",
   "metadata": {},
   "source": [
    "We are left with a dataframe with 48774 rows and 5 columns. "
   ]
  },
  {
   "cell_type": "markdown",
   "metadata": {},
   "source": [
    "## Data Preparation"
   ]
  },
  {
   "cell_type": "markdown",
   "metadata": {},
   "source": [
    "In what follows, we assign numeric values to different responses in sex, orientation, ethnicity and education columns. \n",
    "\n",
    "We assign \"1\" to \"male\" and \"0\" to \"female\" in the sex column: "
   ]
  },
  {
   "cell_type": "code",
   "execution_count": 15,
   "metadata": {},
   "outputs": [
    {
     "name": "stderr",
     "output_type": "stream",
     "text": [
      "/miniconda3/lib/python3.7/site-packages/ipykernel_launcher.py:3: SettingWithCopyWarning: \n",
      "A value is trying to be set on a copy of a slice from a DataFrame.\n",
      "Try using .loc[row_indexer,col_indexer] = value instead\n",
      "\n",
      "See the caveats in the documentation: http://pandas.pydata.org/pandas-docs/stable/indexing.html#indexing-view-versus-copy\n",
      "  This is separate from the ipykernel package so we can avoid doing imports until\n"
     ]
    }
   ],
   "source": [
    "# Assigning numeric values to different responses in the sex column:\n",
    "\n",
    "equity_df['sex_code'] = equity_df.sex.apply(lambda x: 1 if x == 'm' else 0)"
   ]
  },
  {
   "cell_type": "markdown",
   "metadata": {},
   "source": [
    "We assign \"1\" to \"straight\" and \"0\" to all other sexual orientations in the sex column:"
   ]
  },
  {
   "cell_type": "code",
   "execution_count": 16,
   "metadata": {},
   "outputs": [
    {
     "name": "stderr",
     "output_type": "stream",
     "text": [
      "/miniconda3/lib/python3.7/site-packages/ipykernel_launcher.py:2: SettingWithCopyWarning: \n",
      "A value is trying to be set on a copy of a slice from a DataFrame.\n",
      "Try using .loc[row_indexer,col_indexer] = value instead\n",
      "\n",
      "See the caveats in the documentation: http://pandas.pydata.org/pandas-docs/stable/indexing.html#indexing-view-versus-copy\n",
      "  \n"
     ]
    }
   ],
   "source": [
    "# Assigning numeric values to different responses in the orientation column:\n",
    "equity_df['orientation_code'] = equity_df.orientation.apply(lambda x: 1 if x == 'straight' else 0)"
   ]
  },
  {
   "cell_type": "markdown",
   "metadata": {},
   "source": [
    "We assign \"1\" to \"white\", \"2\" to \"asian\", \"3\" to \"hispanic/latin\", \"4\" to \"black\" and \"5\" to all other ethnicities in the ethnicity column:"
   ]
  },
  {
   "cell_type": "code",
   "execution_count": 17,
   "metadata": {},
   "outputs": [
    {
     "name": "stderr",
     "output_type": "stream",
     "text": [
      "/miniconda3/lib/python3.7/site-packages/ipykernel_launcher.py:20: SettingWithCopyWarning: \n",
      "A value is trying to be set on a copy of a slice from a DataFrame.\n",
      "Try using .loc[row_indexer,col_indexer] = value instead\n",
      "\n",
      "See the caveats in the documentation: http://pandas.pydata.org/pandas-docs/stable/indexing.html#indexing-view-versus-copy\n"
     ]
    }
   ],
   "source": [
    "# Assigning numeric values to different responses in the ethnicity column:\n",
    "\n",
    "ethnicity_list = []\n",
    "for i in range(len(equity_df['ethnicity'].value_counts().index)):\n",
    "    ethnicity_list.append(equity_df['ethnicity'].value_counts().index[i])\n",
    "\n",
    "ethnicity_mapping = {}\n",
    "for i in range(len(equity_df['ethnicity'].value_counts().index)):\n",
    "    if equity_df['ethnicity'].value_counts().index[i] == 'white':\n",
    "        ethnicity_mapping.update({equity_df['ethnicity'].value_counts().index[i]: 1})\n",
    "    elif equity_df['ethnicity'].value_counts().index[i] == 'asian':\n",
    "        ethnicity_mapping.update({equity_df['ethnicity'].value_counts().index[i]: 2})\n",
    "    elif equity_df['ethnicity'].value_counts().index[i] == 'hispanic / latin':\n",
    "        ethnicity_mapping.update({equity_df['ethnicity'].value_counts().index[i]: 3})\n",
    "    elif equity_df['ethnicity'].value_counts().index[i] == 'black':\n",
    "        ethnicity_mapping.update({equity_df['ethnicity'].value_counts().index[i]: 4})\n",
    "    else:\n",
    "        ethnicity_mapping.update({equity_df['ethnicity'].value_counts().index[i]: 5})\n",
    "\n",
    "equity_df['ethnicity_code'] = equity_df.ethnicity.map(ethnicity_mapping)"
   ]
  },
  {
   "cell_type": "markdown",
   "metadata": {},
   "source": [
    "We reduce the data to three categories in the education column: 1) below college level, 2) college level, 3) above college level. Then, we assign \"1\" to \"below college\", \"2\" to \"college\" and \"3\" to \"above college\":   "
   ]
  },
  {
   "cell_type": "code",
   "execution_count": 18,
   "metadata": {},
   "outputs": [
    {
     "name": "stderr",
     "output_type": "stream",
     "text": [
      "/miniconda3/lib/python3.7/site-packages/ipykernel_launcher.py:21: SettingWithCopyWarning: \n",
      "A value is trying to be set on a copy of a slice from a DataFrame.\n",
      "Try using .loc[row_indexer,col_indexer] = value instead\n",
      "\n",
      "See the caveats in the documentation: http://pandas.pydata.org/pandas-docs/stable/indexing.html#indexing-view-versus-copy\n"
     ]
    }
   ],
   "source": [
    "# Reducing the data and assigning numeric values to the reduced data in the education column:\n",
    "\n",
    "education_level_mapping = {\"graduated from college/university\": 2, \"graduated from masters program\": 3,\n",
    "                           \"working on college/university\": 1, \"working on masters program\": 3,\n",
    "                           \"graduated from two-year college\": 1, \"graduated from high school\": 1,\n",
    "                           \"graduated from ph.d program\": 3, \"graduated from law school\": 3,\n",
    "                           \"working on two-year college\": 1, \"dropped out of college/university\": 1,\n",
    "                           \"working on ph.d program\": 3, \"college/university\": 2,\n",
    "                           \"graduated from space camp\": 1, \"dropped out of space camp\": 1,\n",
    "                           \"graduated from med school\": 3, \"working on space camp\": 1, \n",
    "                           \"working on law school\": 3, \"working on med school\": 3,\n",
    "                           \"two-year college\": 1, \"dropped out of two-year college\": 1,\n",
    "                           \"dropped out of masters program\": 2, \"dropped out of ph.d program\": 2,\n",
    "                           \"dropped out of high school\": 1, \"masters program\": 3, \n",
    "                           \"working on high school\": 1, \"high school\": 1,\n",
    "                           \"space camp\": 1, \"ph.d program\": 3,\n",
    "                           \"dropped out of law school\": 2, \"law school\": 3, \n",
    "                           \"dropped out of med school\": 2, \"med school\": 3\n",
    "                          }\n",
    "\n",
    "equity_df['education_level_code'] = equity_df.education.map(education_level_mapping)"
   ]
  },
  {
   "cell_type": "code",
   "execution_count": 19,
   "metadata": {},
   "outputs": [
    {
     "name": "stderr",
     "output_type": "stream",
     "text": [
      "/miniconda3/lib/python3.7/site-packages/ipykernel_launcher.py:5: SettingWithCopyWarning: \n",
      "A value is trying to be set on a copy of a slice from a DataFrame.\n",
      "Try using .loc[row_indexer,col_indexer] = value instead\n",
      "\n",
      "See the caveats in the documentation: http://pandas.pydata.org/pandas-docs/stable/indexing.html#indexing-view-versus-copy\n",
      "  \"\"\"\n"
     ]
    }
   ],
   "source": [
    "# Dropping the non-numeric columns in equity.df\n",
    "equity_df.drop(['education', 'ethnicity', 'orientation', 'sex'], axis=1, inplace=True)\n",
    "\n",
    "# Adding a new column to do aggregate statistics on\n",
    "equity_df['aggregate_col'] = equity_df.index"
   ]
  },
  {
   "cell_type": "markdown",
   "metadata": {},
   "source": [
    "Here is how the dataframe prepared for analysis looks like: "
   ]
  },
  {
   "cell_type": "code",
   "execution_count": 20,
   "metadata": {},
   "outputs": [
    {
     "data": {
      "text/html": [
       "<div>\n",
       "<style scoped>\n",
       "    .dataframe tbody tr th:only-of-type {\n",
       "        vertical-align: middle;\n",
       "    }\n",
       "\n",
       "    .dataframe tbody tr th {\n",
       "        vertical-align: top;\n",
       "    }\n",
       "\n",
       "    .dataframe thead th {\n",
       "        text-align: right;\n",
       "    }\n",
       "</style>\n",
       "<table border=\"1\" class=\"dataframe\">\n",
       "  <thead>\n",
       "    <tr style=\"text-align: right;\">\n",
       "      <th></th>\n",
       "      <th>age</th>\n",
       "      <th>sex_code</th>\n",
       "      <th>orientation_code</th>\n",
       "      <th>ethnicity_code</th>\n",
       "      <th>education_level_code</th>\n",
       "      <th>aggregate_col</th>\n",
       "    </tr>\n",
       "  </thead>\n",
       "  <tbody>\n",
       "    <tr>\n",
       "      <th>0</th>\n",
       "      <td>22</td>\n",
       "      <td>1</td>\n",
       "      <td>1</td>\n",
       "      <td>5</td>\n",
       "      <td>1</td>\n",
       "      <td>0</td>\n",
       "    </tr>\n",
       "    <tr>\n",
       "      <th>1</th>\n",
       "      <td>35</td>\n",
       "      <td>1</td>\n",
       "      <td>1</td>\n",
       "      <td>1</td>\n",
       "      <td>1</td>\n",
       "      <td>1</td>\n",
       "    </tr>\n",
       "    <tr>\n",
       "      <th>2</th>\n",
       "      <td>23</td>\n",
       "      <td>1</td>\n",
       "      <td>1</td>\n",
       "      <td>1</td>\n",
       "      <td>1</td>\n",
       "      <td>2</td>\n",
       "    </tr>\n",
       "    <tr>\n",
       "      <th>3</th>\n",
       "      <td>29</td>\n",
       "      <td>1</td>\n",
       "      <td>1</td>\n",
       "      <td>5</td>\n",
       "      <td>2</td>\n",
       "      <td>3</td>\n",
       "    </tr>\n",
       "    <tr>\n",
       "      <th>4</th>\n",
       "      <td>29</td>\n",
       "      <td>1</td>\n",
       "      <td>1</td>\n",
       "      <td>1</td>\n",
       "      <td>2</td>\n",
       "      <td>4</td>\n",
       "    </tr>\n",
       "  </tbody>\n",
       "</table>\n",
       "</div>"
      ],
      "text/plain": [
       "   age  sex_code  orientation_code  ethnicity_code  education_level_code  \\\n",
       "0   22         1                 1               5                     1   \n",
       "1   35         1                 1               1                     1   \n",
       "2   23         1                 1               1                     1   \n",
       "3   29         1                 1               5                     2   \n",
       "4   29         1                 1               1                     2   \n",
       "\n",
       "   aggregate_col  \n",
       "0              0  \n",
       "1              1  \n",
       "2              2  \n",
       "3              3  \n",
       "4              4  "
      ]
     },
     "execution_count": 20,
     "metadata": {},
     "output_type": "execute_result"
    }
   ],
   "source": [
    "equity_df.head()"
   ]
  },
  {
   "cell_type": "markdown",
   "metadata": {},
   "source": [
    "## Exploratory Data Analysis"
   ]
  },
  {
   "cell_type": "markdown",
   "metadata": {},
   "source": [
    "Let's find out how gender affects the education level distribution:"
   ]
  },
  {
   "cell_type": "code",
   "execution_count": 21,
   "metadata": {},
   "outputs": [
    {
     "data": {
      "text/html": [
       "<div>\n",
       "<style scoped>\n",
       "    .dataframe tbody tr th:only-of-type {\n",
       "        vertical-align: middle;\n",
       "    }\n",
       "\n",
       "    .dataframe tbody tr th {\n",
       "        vertical-align: top;\n",
       "    }\n",
       "\n",
       "    .dataframe thead th {\n",
       "        text-align: right;\n",
       "    }\n",
       "</style>\n",
       "<table border=\"1\" class=\"dataframe\">\n",
       "  <thead>\n",
       "    <tr style=\"text-align: right;\">\n",
       "      <th></th>\n",
       "      <th>education_level_code</th>\n",
       "      <th>sex_code</th>\n",
       "      <th>population</th>\n",
       "      <th>percentage_of_population</th>\n",
       "    </tr>\n",
       "  </thead>\n",
       "  <tbody>\n",
       "    <tr>\n",
       "      <th>0</th>\n",
       "      <td>1</td>\n",
       "      <td>0</td>\n",
       "      <td>4225</td>\n",
       "      <td>0.214511</td>\n",
       "    </tr>\n",
       "    <tr>\n",
       "      <th>1</th>\n",
       "      <td>1</td>\n",
       "      <td>1</td>\n",
       "      <td>7916</td>\n",
       "      <td>0.272233</td>\n",
       "    </tr>\n",
       "    <tr>\n",
       "      <th>2</th>\n",
       "      <td>2</td>\n",
       "      <td>0</td>\n",
       "      <td>9238</td>\n",
       "      <td>0.469029</td>\n",
       "    </tr>\n",
       "    <tr>\n",
       "      <th>3</th>\n",
       "      <td>2</td>\n",
       "      <td>1</td>\n",
       "      <td>13648</td>\n",
       "      <td>0.469358</td>\n",
       "    </tr>\n",
       "    <tr>\n",
       "      <th>4</th>\n",
       "      <td>3</td>\n",
       "      <td>0</td>\n",
       "      <td>6233</td>\n",
       "      <td>0.316460</td>\n",
       "    </tr>\n",
       "    <tr>\n",
       "      <th>5</th>\n",
       "      <td>3</td>\n",
       "      <td>1</td>\n",
       "      <td>7514</td>\n",
       "      <td>0.258408</td>\n",
       "    </tr>\n",
       "  </tbody>\n",
       "</table>\n",
       "</div>"
      ],
      "text/plain": [
       "   education_level_code  sex_code  population  percentage_of_population\n",
       "0                     1         0        4225                  0.214511\n",
       "1                     1         1        7916                  0.272233\n",
       "2                     2         0        9238                  0.469029\n",
       "3                     2         1       13648                  0.469358\n",
       "4                     3         0        6233                  0.316460\n",
       "5                     3         1        7514                  0.258408"
      ]
     },
     "execution_count": 21,
     "metadata": {},
     "output_type": "execute_result"
    }
   ],
   "source": [
    "# Finding out the distribution of education level for both genders\n",
    "\n",
    "equity_df['sex_code'].value_counts()\n",
    "num_females = equity_df['sex_code'].value_counts()[0]\n",
    "num_males = equity_df['sex_code'].value_counts()[1]\n",
    "\n",
    "population_count_grouped_by_sex_education = equity_df.groupby(['education_level_code', 'sex_code'])['aggregate_col'].count().reset_index()\n",
    "\n",
    "population_count_grouped_by_sex_education['percentage_of_population'] = population_count_grouped_by_sex_education.apply(lambda row: (row['aggregate_col']/num_females)\\\n",
    "                                                               if\\\n",
    "                                                               (row['sex_code']==0)\\\n",
    "                                                               else\\\n",
    "                                                               (row['aggregate_col']/num_males), axis=1)\n",
    "\n",
    "population_count_grouped_by_sex_education.rename(columns={'aggregate_col': 'population'}, inplace=True)\n",
    "\n",
    "population_count_grouped_by_sex_education"
   ]
  },
  {
   "cell_type": "markdown",
   "metadata": {},
   "source": [
    "Let's visualize this data:"
   ]
  },
  {
   "cell_type": "code",
   "execution_count": 22,
   "metadata": {},
   "outputs": [
    {
     "name": "stderr",
     "output_type": "stream",
     "text": [
      "/miniconda3/lib/python3.7/site-packages/ipykernel_launcher.py:15: MatplotlibDeprecationWarning: Adding an axes using the same arguments as a previous axes currently reuses the earlier instance.  In a future version, a new instance will always be created and returned.  Meanwhile, this warning can be suppressed, and the future behavior ensured, by passing a unique label to each axes instance.\n",
      "  from ipykernel import kernelapp as app\n"
     ]
    },
    {
     "data": {
      "text/plain": [
       "<matplotlib.legend.Legend at 0x1105dcdd8>"
      ]
     },
     "execution_count": 22,
     "metadata": {},
     "output_type": "execute_result"
    },
    {
     "data": {
      "image/png": "[encoded data removed]",
      "text/plain": [
       "<Figure size 432x288 with 1 Axes>"
      ]
     },
     "metadata": {
      "needs_background": "light"
     },
     "output_type": "display_data"
    }
   ],
   "source": [
    "# Plotting the distribution of education levels for both genders\n",
    "\n",
    "population_percentage = population_count_grouped_by_sex_education['percentage_of_population'].tolist()\n",
    "female_population_list = []\n",
    "male_population_list = []\n",
    "for i in range(len(population_percentage)):\n",
    "    if i%2 == 0:\n",
    "        female_population_list.append(population_percentage[i])\n",
    "    else:\n",
    "        male_population_list.append(population_percentage[i])\n",
    "        \n",
    "width = 0.25\n",
    "plt.bar([(i-width/2) for i in range(1,4)], female_population_list, width)\n",
    "plt.bar([(i+width/2) for i in range(1,4)], male_population_list, width)\n",
    "ax = plt.subplot()\n",
    "ax.set_xticks(range(1,4))\n",
    "ax.set_xticklabels(['Below College', 'College', 'Above College'])\n",
    "plt.ylabel('Fraction of Population')\n",
    "plt.xlabel('Education Level')\n",
    "plt.legend(['Female', 'Male'])"
   ]
  },
  {
   "cell_type": "markdown",
   "metadata": {},
   "source": [
    "Females have a slight advantage over males. Let's take a look the average education level for each gender: "
   ]
  },
  {
   "cell_type": "code",
   "execution_count": 23,
   "metadata": {},
   "outputs": [
    {
     "data": {
      "text/html": [
       "<div>\n",
       "<style scoped>\n",
       "    .dataframe tbody tr th:only-of-type {\n",
       "        vertical-align: middle;\n",
       "    }\n",
       "\n",
       "    .dataframe tbody tr th {\n",
       "        vertical-align: top;\n",
       "    }\n",
       "\n",
       "    .dataframe thead th {\n",
       "        text-align: right;\n",
       "    }\n",
       "</style>\n",
       "<table border=\"1\" class=\"dataframe\">\n",
       "  <thead>\n",
       "    <tr style=\"text-align: right;\">\n",
       "      <th></th>\n",
       "      <th>sex_code</th>\n",
       "      <th>average_education_level</th>\n",
       "    </tr>\n",
       "  </thead>\n",
       "  <tbody>\n",
       "    <tr>\n",
       "      <th>0</th>\n",
       "      <td>0</td>\n",
       "      <td>2.101950</td>\n",
       "    </tr>\n",
       "    <tr>\n",
       "      <th>1</th>\n",
       "      <td>1</td>\n",
       "      <td>1.986175</td>\n",
       "    </tr>\n",
       "  </tbody>\n",
       "</table>\n",
       "</div>"
      ],
      "text/plain": [
       "   sex_code  average_education_level\n",
       "0         0                 2.101950\n",
       "1         1                 1.986175"
      ]
     },
     "execution_count": 23,
     "metadata": {},
     "output_type": "execute_result"
    }
   ],
   "source": [
    "# Finding the average education level for each gender \n",
    "\n",
    "education_mean_grouped_by_sex = equity_df.groupby(['sex_code'])['education_level_code'].mean().reset_index()\n",
    "education_mean_grouped_by_sex.rename(columns={'education_level_code': 'average_education_level'}, inplace=True)\n",
    "education_mean_grouped_by_sex"
   ]
  },
  {
   "cell_type": "markdown",
   "metadata": {},
   "source": [
    "Next, we repeat the above process for sexual orientation:"
   ]
  },
  {
   "cell_type": "code",
   "execution_count": 24,
   "metadata": {},
   "outputs": [
    {
     "data": {
      "text/html": [
       "<div>\n",
       "<style scoped>\n",
       "    .dataframe tbody tr th:only-of-type {\n",
       "        vertical-align: middle;\n",
       "    }\n",
       "\n",
       "    .dataframe tbody tr th {\n",
       "        vertical-align: top;\n",
       "    }\n",
       "\n",
       "    .dataframe thead th {\n",
       "        text-align: right;\n",
       "    }\n",
       "</style>\n",
       "<table border=\"1\" class=\"dataframe\">\n",
       "  <thead>\n",
       "    <tr style=\"text-align: right;\">\n",
       "      <th></th>\n",
       "      <th>education_level_code</th>\n",
       "      <th>orientation_code</th>\n",
       "      <th>population</th>\n",
       "      <th>percentage_of_population</th>\n",
       "    </tr>\n",
       "  </thead>\n",
       "  <tbody>\n",
       "    <tr>\n",
       "      <th>0</th>\n",
       "      <td>1</td>\n",
       "      <td>0</td>\n",
       "      <td>2114</td>\n",
       "      <td>0.316514</td>\n",
       "    </tr>\n",
       "    <tr>\n",
       "      <th>1</th>\n",
       "      <td>1</td>\n",
       "      <td>1</td>\n",
       "      <td>10027</td>\n",
       "      <td>0.238199</td>\n",
       "    </tr>\n",
       "    <tr>\n",
       "      <th>2</th>\n",
       "      <td>2</td>\n",
       "      <td>0</td>\n",
       "      <td>2809</td>\n",
       "      <td>0.420572</td>\n",
       "    </tr>\n",
       "    <tr>\n",
       "      <th>3</th>\n",
       "      <td>2</td>\n",
       "      <td>1</td>\n",
       "      <td>20077</td>\n",
       "      <td>0.476945</td>\n",
       "    </tr>\n",
       "    <tr>\n",
       "      <th>4</th>\n",
       "      <td>3</td>\n",
       "      <td>0</td>\n",
       "      <td>1756</td>\n",
       "      <td>0.262914</td>\n",
       "    </tr>\n",
       "    <tr>\n",
       "      <th>5</th>\n",
       "      <td>3</td>\n",
       "      <td>1</td>\n",
       "      <td>11991</td>\n",
       "      <td>0.284856</td>\n",
       "    </tr>\n",
       "  </tbody>\n",
       "</table>\n",
       "</div>"
      ],
      "text/plain": [
       "   education_level_code  orientation_code  population  \\\n",
       "0                     1                 0        2114   \n",
       "1                     1                 1       10027   \n",
       "2                     2                 0        2809   \n",
       "3                     2                 1       20077   \n",
       "4                     3                 0        1756   \n",
       "5                     3                 1       11991   \n",
       "\n",
       "   percentage_of_population  \n",
       "0                  0.316514  \n",
       "1                  0.238199  \n",
       "2                  0.420572  \n",
       "3                  0.476945  \n",
       "4                  0.262914  \n",
       "5                  0.284856  "
      ]
     },
     "execution_count": 24,
     "metadata": {},
     "output_type": "execute_result"
    }
   ],
   "source": [
    "# Finding out the distribution of education level for both straight and non-straight orientations\n",
    "\n",
    "equity_df['orientation_code'].value_counts()\n",
    "num_straights = equity_df['orientation_code'].value_counts()[1]\n",
    "num_others = equity_df['orientation_code'].value_counts()[0]\n",
    "\n",
    "population_count_grouped_by_orientation_education = equity_df.groupby(['education_level_code', 'orientation_code'])['aggregate_col'].count().reset_index()\n",
    "\n",
    "population_count_grouped_by_orientation_education['percentage_of_population'] = population_count_grouped_by_orientation_education.apply(lambda row: (row['aggregate_col']/num_others)\\\n",
    "                                                               if\\\n",
    "                                                               (row['orientation_code']==0)\\\n",
    "                                                               else\\\n",
    "                                                               (row['aggregate_col']/num_straights), axis=1)\n",
    "\n",
    "population_count_grouped_by_orientation_education.rename(columns={'aggregate_col': 'population'}, inplace=True)\n",
    "population_count_grouped_by_orientation_education"
   ]
  },
  {
   "cell_type": "code",
   "execution_count": 25,
   "metadata": {},
   "outputs": [
    {
     "name": "stderr",
     "output_type": "stream",
     "text": [
      "/miniconda3/lib/python3.7/site-packages/ipykernel_launcher.py:15: MatplotlibDeprecationWarning: Adding an axes using the same arguments as a previous axes currently reuses the earlier instance.  In a future version, a new instance will always be created and returned.  Meanwhile, this warning can be suppressed, and the future behavior ensured, by passing a unique label to each axes instance.\n",
      "  from ipykernel import kernelapp as app\n"
     ]
    },
    {
     "data": {
      "text/plain": [
       "<matplotlib.legend.Legend at 0x11076af28>"
      ]
     },
     "execution_count": 25,
     "metadata": {},
     "output_type": "execute_result"
    },
    {
     "data": {
      "image/png": "[encoded data removed]",
      "text/plain": [
       "<Figure size 432x288 with 1 Axes>"
      ]
     },
     "metadata": {
      "needs_background": "light"
     },
     "output_type": "display_data"
    }
   ],
   "source": [
    "# Plotting the distribution of education level for both straight and non-straight orientations\n",
    "\n",
    "population_percentage = population_count_grouped_by_orientation_education['percentage_of_population'].tolist()\n",
    "others_population_list = []\n",
    "straights_population_list = []\n",
    "for i in range(len(population_percentage)):\n",
    "    if i%2 == 0:\n",
    "        others_population_list.append(population_percentage[i])\n",
    "    else:\n",
    "        straights_population_list.append(population_percentage[i])\n",
    "        \n",
    "width = 0.25\n",
    "plt.bar([(i-width/2) for i in range(1,4)], others_population_list, width)\n",
    "plt.bar([(i+width/2) for i in range(1,4)], straights_population_list, width)\n",
    "ax = plt.subplot()\n",
    "ax.set_xticks(range(1,4))\n",
    "ax.set_xticklabels(['Below College', 'College', 'Above College'])\n",
    "plt.ylabel('Fraction of Population')\n",
    "plt.xlabel('Education Level')\n",
    "plt.legend(['Other Orientations', 'Straight'])"
   ]
  },
  {
   "cell_type": "markdown",
   "metadata": {},
   "source": [
    "Straights have a slight advantage over non-straights. Let's take a look the average education level for both categories: "
   ]
  },
  {
   "cell_type": "code",
   "execution_count": 26,
   "metadata": {},
   "outputs": [
    {
     "data": {
      "text/html": [
       "<div>\n",
       "<style scoped>\n",
       "    .dataframe tbody tr th:only-of-type {\n",
       "        vertical-align: middle;\n",
       "    }\n",
       "\n",
       "    .dataframe tbody tr th {\n",
       "        vertical-align: top;\n",
       "    }\n",
       "\n",
       "    .dataframe thead th {\n",
       "        text-align: right;\n",
       "    }\n",
       "</style>\n",
       "<table border=\"1\" class=\"dataframe\">\n",
       "  <thead>\n",
       "    <tr style=\"text-align: right;\">\n",
       "      <th></th>\n",
       "      <th>orientation_code</th>\n",
       "      <th>average_education_level</th>\n",
       "    </tr>\n",
       "  </thead>\n",
       "  <tbody>\n",
       "    <tr>\n",
       "      <th>0</th>\n",
       "      <td>0</td>\n",
       "      <td>1.946399</td>\n",
       "    </tr>\n",
       "    <tr>\n",
       "      <th>1</th>\n",
       "      <td>1</td>\n",
       "      <td>2.046656</td>\n",
       "    </tr>\n",
       "  </tbody>\n",
       "</table>\n",
       "</div>"
      ],
      "text/plain": [
       "   orientation_code  average_education_level\n",
       "0                 0                 1.946399\n",
       "1                 1                 2.046656"
      ]
     },
     "execution_count": 26,
     "metadata": {},
     "output_type": "execute_result"
    }
   ],
   "source": [
    "# Finding the average education level for both straights and non-straights \n",
    "\n",
    "education_mean_grouped_by_orientation = equity_df.groupby(['orientation_code'])['education_level_code'].mean().reset_index()\n",
    "education_mean_grouped_by_orientation.rename(columns={'education_level_code': 'average_education_level'}, inplace=True)\n",
    "education_mean_grouped_by_orientation"
   ]
  },
  {
   "cell_type": "markdown",
   "metadata": {},
   "source": [
    "Finally, we re-do this process for ethnicity: "
   ]
  },
  {
   "cell_type": "code",
   "execution_count": 27,
   "metadata": {},
   "outputs": [
    {
     "data": {
      "text/html": [
       "<div>\n",
       "<style scoped>\n",
       "    .dataframe tbody tr th:only-of-type {\n",
       "        vertical-align: middle;\n",
       "    }\n",
       "\n",
       "    .dataframe tbody tr th {\n",
       "        vertical-align: top;\n",
       "    }\n",
       "\n",
       "    .dataframe thead th {\n",
       "        text-align: right;\n",
       "    }\n",
       "</style>\n",
       "<table border=\"1\" class=\"dataframe\">\n",
       "  <thead>\n",
       "    <tr style=\"text-align: right;\">\n",
       "      <th></th>\n",
       "      <th>education_level_code</th>\n",
       "      <th>ethnicity_code</th>\n",
       "      <th>population</th>\n",
       "      <th>percentage_of_population</th>\n",
       "    </tr>\n",
       "  </thead>\n",
       "  <tbody>\n",
       "    <tr>\n",
       "      <th>0</th>\n",
       "      <td>1</td>\n",
       "      <td>1</td>\n",
       "      <td>6323</td>\n",
       "      <td>0.212281</td>\n",
       "    </tr>\n",
       "    <tr>\n",
       "      <th>1</th>\n",
       "      <td>1</td>\n",
       "      <td>2</td>\n",
       "      <td>947</td>\n",
       "      <td>0.170354</td>\n",
       "    </tr>\n",
       "    <tr>\n",
       "      <th>2</th>\n",
       "      <td>1</td>\n",
       "      <td>3</td>\n",
       "      <td>1033</td>\n",
       "      <td>0.440888</td>\n",
       "    </tr>\n",
       "    <tr>\n",
       "      <th>3</th>\n",
       "      <td>1</td>\n",
       "      <td>4</td>\n",
       "      <td>733</td>\n",
       "      <td>0.416005</td>\n",
       "    </tr>\n",
       "    <tr>\n",
       "      <th>4</th>\n",
       "      <td>1</td>\n",
       "      <td>5</td>\n",
       "      <td>3105</td>\n",
       "      <td>0.333012</td>\n",
       "    </tr>\n",
       "    <tr>\n",
       "      <th>5</th>\n",
       "      <td>2</td>\n",
       "      <td>1</td>\n",
       "      <td>14478</td>\n",
       "      <td>0.486067</td>\n",
       "    </tr>\n",
       "    <tr>\n",
       "      <th>6</th>\n",
       "      <td>2</td>\n",
       "      <td>2</td>\n",
       "      <td>3026</td>\n",
       "      <td>0.544343</td>\n",
       "    </tr>\n",
       "    <tr>\n",
       "      <th>7</th>\n",
       "      <td>2</td>\n",
       "      <td>3</td>\n",
       "      <td>937</td>\n",
       "      <td>0.399915</td>\n",
       "    </tr>\n",
       "    <tr>\n",
       "      <th>8</th>\n",
       "      <td>2</td>\n",
       "      <td>4</td>\n",
       "      <td>613</td>\n",
       "      <td>0.347900</td>\n",
       "    </tr>\n",
       "    <tr>\n",
       "      <th>9</th>\n",
       "      <td>2</td>\n",
       "      <td>5</td>\n",
       "      <td>3832</td>\n",
       "      <td>0.410982</td>\n",
       "    </tr>\n",
       "    <tr>\n",
       "      <th>10</th>\n",
       "      <td>3</td>\n",
       "      <td>1</td>\n",
       "      <td>8985</td>\n",
       "      <td>0.301652</td>\n",
       "    </tr>\n",
       "    <tr>\n",
       "      <th>11</th>\n",
       "      <td>3</td>\n",
       "      <td>2</td>\n",
       "      <td>1586</td>\n",
       "      <td>0.285303</td>\n",
       "    </tr>\n",
       "    <tr>\n",
       "      <th>12</th>\n",
       "      <td>3</td>\n",
       "      <td>3</td>\n",
       "      <td>373</td>\n",
       "      <td>0.159198</td>\n",
       "    </tr>\n",
       "    <tr>\n",
       "      <th>13</th>\n",
       "      <td>3</td>\n",
       "      <td>4</td>\n",
       "      <td>416</td>\n",
       "      <td>0.236095</td>\n",
       "    </tr>\n",
       "    <tr>\n",
       "      <th>14</th>\n",
       "      <td>3</td>\n",
       "      <td>5</td>\n",
       "      <td>2387</td>\n",
       "      <td>0.256006</td>\n",
       "    </tr>\n",
       "  </tbody>\n",
       "</table>\n",
       "</div>"
      ],
      "text/plain": [
       "    education_level_code  ethnicity_code  population  percentage_of_population\n",
       "0                      1               1        6323                  0.212281\n",
       "1                      1               2         947                  0.170354\n",
       "2                      1               3        1033                  0.440888\n",
       "3                      1               4         733                  0.416005\n",
       "4                      1               5        3105                  0.333012\n",
       "5                      2               1       14478                  0.486067\n",
       "6                      2               2        3026                  0.544343\n",
       "7                      2               3         937                  0.399915\n",
       "8                      2               4         613                  0.347900\n",
       "9                      2               5        3832                  0.410982\n",
       "10                     3               1        8985                  0.301652\n",
       "11                     3               2        1586                  0.285303\n",
       "12                     3               3         373                  0.159198\n",
       "13                     3               4         416                  0.236095\n",
       "14                     3               5        2387                  0.256006"
      ]
     },
     "execution_count": 27,
     "metadata": {},
     "output_type": "execute_result"
    }
   ],
   "source": [
    "# Finding out the distribution of education level for different ethnicities\n",
    "\n",
    "equity_df['ethnicity_code'].value_counts()\n",
    "num_whites = equity_df['ethnicity_code'].value_counts()[1]\n",
    "num_asians = equity_df['ethnicity_code'].value_counts()[2]\n",
    "num_latins = equity_df['ethnicity_code'].value_counts()[3]\n",
    "num_blacks = equity_df['ethnicity_code'].value_counts()[4]\n",
    "num_others = equity_df['ethnicity_code'].value_counts()[5]\n",
    "\n",
    "population_count_grouped_by_ethnicity_education = equity_df.groupby(['education_level_code', 'ethnicity_code'])['aggregate_col'].count().reset_index()\n",
    "\n",
    "population_count_grouped_by_ethnicity_education['percentage_of_population'] = population_count_grouped_by_ethnicity_education.apply(lambda row: (row['aggregate_col']/num_whites)\\\n",
    "                                                               if\\\n",
    "                                                               (row['ethnicity_code']==1)\\\n",
    "                                                               else\\\n",
    "                                                               ((row['aggregate_col']/num_asians)\\\n",
    "                                                               if\\\n",
    "                                                               (row['ethnicity_code']==2)\\\n",
    "                                                               else\\\n",
    "                                                               ((row['aggregate_col']/num_latins)\\\n",
    "                                                               if\\\n",
    "                                                               (row['ethnicity_code']==3)\\\n",
    "                                                               else\\\n",
    "                                                               ((row['aggregate_col']/num_blacks\\\n",
    "                                                                if\\\n",
    "                                                                (row['ethnicity_code']==4)\\\n",
    "                                                                else\\\n",
    "                                                                (row['aggregate_col']/num_others))))), axis=1)\n",
    "\n",
    "population_count_grouped_by_ethnicity_education.rename(columns={'aggregate_col': 'population'}, inplace=True)\n",
    "population_count_grouped_by_ethnicity_education"
   ]
  },
  {
   "cell_type": "code",
   "execution_count": 28,
   "metadata": {},
   "outputs": [
    {
     "name": "stderr",
     "output_type": "stream",
     "text": [
      "/miniconda3/lib/python3.7/site-packages/ipykernel_launcher.py:29: MatplotlibDeprecationWarning: Adding an axes using the same arguments as a previous axes currently reuses the earlier instance.  In a future version, a new instance will always be created and returned.  Meanwhile, this warning can be suppressed, and the future behavior ensured, by passing a unique label to each axes instance.\n"
     ]
    },
    {
     "data": {
      "text/plain": [
       "<matplotlib.legend.Legend at 0x110022f60>"
      ]
     },
     "execution_count": 28,
     "metadata": {},
     "output_type": "execute_result"
    },
    {
     "data": {
      "image/png": "[encoded data removed]",
      "text/plain": [
       "<Figure size 432x288 with 1 Axes>"
      ]
     },
     "metadata": {
      "needs_background": "light"
     },
     "output_type": "display_data"
    }
   ],
   "source": [
    "# Plotting the distribution of education level for different ethnicities \n",
    "\n",
    "population_percentage = population_count_grouped_by_ethnicity_education['percentage_of_population'].tolist()\n",
    "whites_population_list = []\n",
    "asians_population_list = []\n",
    "latins_population_list = []\n",
    "blacks_population_list = []\n",
    "others_population_list = []\n",
    "for i in range(len(population_percentage)):\n",
    "    if i%5 == 0:\n",
    "        whites_population_list.append(population_percentage[i])\n",
    "    elif i%5 == 1:\n",
    "        asians_population_list.append(population_percentage[i])\n",
    "    elif i%5 == 2:\n",
    "        latins_population_list.append(population_percentage[i])\n",
    "    elif i%5 == 3:\n",
    "        blacks_population_list.append(population_percentage[i])\n",
    "    else:\n",
    "        others_population_list.append(population_percentage[i])        \n",
    "        \n",
    "width = 0.15\n",
    "\n",
    "plt.bar([(i-2*width) for i in range(1,4)], whites_population_list, width)\n",
    "plt.bar([(i-width) for i in range(1,4)], asians_population_list, width)\n",
    "plt.bar([i for i in range(1,4)], latins_population_list, width)\n",
    "plt.bar([(i+width) for i in range(1,4)], blacks_population_list, width)\n",
    "plt.bar([(i+2*width) for i in range(1,4)], others_population_list, width)\n",
    "\n",
    "ax = plt.subplot()\n",
    "ax.set_xticks(range(1,4))\n",
    "ax.set_xticklabels(['Below College', 'College', 'Above College'])\n",
    "plt.ylabel('Fraction of Population')\n",
    "plt.xlabel('Education Level')\n",
    "plt.legend(['White', 'Asian', 'Hispanic/Latin', 'Black', 'Other'])"
   ]
  },
  {
   "cell_type": "markdown",
   "metadata": {},
   "source": [
    "Whites and Asians have a clear advantage over other ethnicities. The education level distribution is more significantly affectted by ethnicity than gender and orientation. Let's take a look at the average education level for each ethnicity: "
   ]
  },
  {
   "cell_type": "code",
   "execution_count": 29,
   "metadata": {},
   "outputs": [
    {
     "data": {
      "text/html": [
       "<div>\n",
       "<style scoped>\n",
       "    .dataframe tbody tr th:only-of-type {\n",
       "        vertical-align: middle;\n",
       "    }\n",
       "\n",
       "    .dataframe tbody tr th {\n",
       "        vertical-align: top;\n",
       "    }\n",
       "\n",
       "    .dataframe thead th {\n",
       "        text-align: right;\n",
       "    }\n",
       "</style>\n",
       "<table border=\"1\" class=\"dataframe\">\n",
       "  <thead>\n",
       "    <tr style=\"text-align: right;\">\n",
       "      <th></th>\n",
       "      <th>ethnicity_code</th>\n",
       "      <th>average_education_level</th>\n",
       "    </tr>\n",
       "  </thead>\n",
       "  <tbody>\n",
       "    <tr>\n",
       "      <th>0</th>\n",
       "      <td>1</td>\n",
       "      <td>2.089371</td>\n",
       "    </tr>\n",
       "    <tr>\n",
       "      <th>1</th>\n",
       "      <td>2</td>\n",
       "      <td>2.114949</td>\n",
       "    </tr>\n",
       "    <tr>\n",
       "      <th>2</th>\n",
       "      <td>3</td>\n",
       "      <td>1.718310</td>\n",
       "    </tr>\n",
       "    <tr>\n",
       "      <th>3</th>\n",
       "      <td>4</td>\n",
       "      <td>1.820091</td>\n",
       "    </tr>\n",
       "    <tr>\n",
       "      <th>4</th>\n",
       "      <td>5</td>\n",
       "      <td>1.922994</td>\n",
       "    </tr>\n",
       "  </tbody>\n",
       "</table>\n",
       "</div>"
      ],
      "text/plain": [
       "   ethnicity_code  average_education_level\n",
       "0               1                 2.089371\n",
       "1               2                 2.114949\n",
       "2               3                 1.718310\n",
       "3               4                 1.820091\n",
       "4               5                 1.922994"
      ]
     },
     "execution_count": 29,
     "metadata": {},
     "output_type": "execute_result"
    }
   ],
   "source": [
    "# Finding the average education level for different ethnicities\n",
    "\n",
    "education_mean_grouped_by_ethnicity = equity_df.groupby(['ethnicity_code'])['education_level_code'].mean().reset_index()\n",
    "education_mean_grouped_by_ethnicity.rename(columns={'education_level_code': 'average_education_level'}, inplace=True)\n",
    "education_mean_grouped_by_ethnicity"
   ]
  },
  {
   "cell_type": "markdown",
   "metadata": {},
   "source": [
    "Let's visualize this data:"
   ]
  },
  {
   "cell_type": "code",
   "execution_count": 30,
   "metadata": {},
   "outputs": [
    {
     "name": "stderr",
     "output_type": "stream",
     "text": [
      "/miniconda3/lib/python3.7/site-packages/ipykernel_launcher.py:5: MatplotlibDeprecationWarning: Adding an axes using the same arguments as a previous axes currently reuses the earlier instance.  In a future version, a new instance will always be created and returned.  Meanwhile, this warning can be suppressed, and the future behavior ensured, by passing a unique label to each axes instance.\n",
      "  \"\"\"\n"
     ]
    },
    {
     "data": {
      "text/plain": [
       "Text(0.5, 0, 'Ethnicity')"
      ]
     },
     "execution_count": 30,
     "metadata": {},
     "output_type": "execute_result"
    },
    {
     "data": {
      "image/png": "[encoded data removed]",
      "text/plain": [
       "<Figure size 432x288 with 1 Axes>"
      ]
     },
     "metadata": {
      "needs_background": "light"
     },
     "output_type": "display_data"
    }
   ],
   "source": [
    "# Plotting the average education level for different ethnicities \n",
    "\n",
    "plt.bar(education_mean_grouped_by_ethnicity['ethnicity_code'], education_mean_grouped_by_ethnicity['average_education_level'], color=('blue', 'orange', 'green', 'red', 'magenta'))\n",
    "plt.ylim([0, 2.25])\n",
    "ax = plt.subplot()\n",
    "ax.set_xticks(range(1,6))\n",
    "ax.set_xticklabels(['White', 'Asian', 'Hispanic/Latin', 'Black', 'Other'])\n",
    "plt.ylabel('Average Education Level')\n",
    "plt.xlabel('Ethnicity')"
   ]
  },
  {
   "cell_type": "markdown",
   "metadata": {},
   "source": [
    "Age is not a factor in educational equity, however, we are interested in finding out how average education level depends on age:"
   ]
  },
  {
   "cell_type": "code",
   "execution_count": 31,
   "metadata": {},
   "outputs": [
    {
     "data": {
      "text/html": [
       "<div>\n",
       "<style scoped>\n",
       "    .dataframe tbody tr th:only-of-type {\n",
       "        vertical-align: middle;\n",
       "    }\n",
       "\n",
       "    .dataframe tbody tr th {\n",
       "        vertical-align: top;\n",
       "    }\n",
       "\n",
       "    .dataframe thead th {\n",
       "        text-align: right;\n",
       "    }\n",
       "</style>\n",
       "<table border=\"1\" class=\"dataframe\">\n",
       "  <thead>\n",
       "    <tr style=\"text-align: right;\">\n",
       "      <th></th>\n",
       "      <th>education_level_code</th>\n",
       "      <th>age</th>\n",
       "    </tr>\n",
       "  </thead>\n",
       "  <tbody>\n",
       "    <tr>\n",
       "      <th>0</th>\n",
       "      <td>1</td>\n",
       "      <td>28.912363</td>\n",
       "    </tr>\n",
       "    <tr>\n",
       "      <th>1</th>\n",
       "      <td>2</td>\n",
       "      <td>32.596522</td>\n",
       "    </tr>\n",
       "    <tr>\n",
       "      <th>2</th>\n",
       "      <td>3</td>\n",
       "      <td>35.198807</td>\n",
       "    </tr>\n",
       "  </tbody>\n",
       "</table>\n",
       "</div>"
      ],
      "text/plain": [
       "   education_level_code        age\n",
       "0                     1  28.912363\n",
       "1                     2  32.596522\n",
       "2                     3  35.198807"
      ]
     },
     "execution_count": 31,
     "metadata": {},
     "output_type": "execute_result"
    }
   ],
   "source": [
    "# Finding the average age for each education level\n",
    "\n",
    "age_mean_grouped_by_education = equity_df.groupby('education_level_code')['age'].mean().reset_index()\n",
    "age_mean_grouped_by_education"
   ]
  },
  {
   "cell_type": "markdown",
   "metadata": {},
   "source": [
    "Let's visualize this data:"
   ]
  },
  {
   "cell_type": "code",
   "execution_count": 32,
   "metadata": {},
   "outputs": [
    {
     "name": "stderr",
     "output_type": "stream",
     "text": [
      "/miniconda3/lib/python3.7/site-packages/ipykernel_launcher.py:4: MatplotlibDeprecationWarning: Adding an axes using the same arguments as a previous axes currently reuses the earlier instance.  In a future version, a new instance will always be created and returned.  Meanwhile, this warning can be suppressed, and the future behavior ensured, by passing a unique label to each axes instance.\n",
      "  after removing the cwd from sys.path.\n"
     ]
    },
    {
     "data": {
      "text/plain": [
       "Text(0.5, 0, 'Education Level')"
      ]
     },
     "execution_count": 32,
     "metadata": {},
     "output_type": "execute_result"
    },
    {
     "data": {
      "image/png": "[encoded data removed]",
      "text/plain": [
       "<Figure size 432x288 with 1 Axes>"
      ]
     },
     "metadata": {
      "needs_background": "light"
     },
     "output_type": "display_data"
    }
   ],
   "source": [
    "# Plotting average age vs. education level \n",
    "\n",
    "plt.bar(range(1,4), age_mean_grouped_by_education['age'])\n",
    "ax = plt.subplot()\n",
    "ax.set_xticks(range(1,4))\n",
    "ax.set_xticklabels(['Below College', 'College', 'Above College'])\n",
    "plt.ylabel('Average Age')\n",
    "plt.xlabel('Education Level')"
   ]
  },
  {
   "cell_type": "markdown",
   "metadata": {},
   "source": [
    "As expected, there is a positive linear correlation between age and education level."
   ]
  },
  {
   "cell_type": "markdown",
   "metadata": {},
   "source": [
    "## Measuring Educational Inequity Using KNN Algorithem  "
   ]
  },
  {
   "cell_type": "markdown",
   "metadata": {},
   "source": [
    "Around 46.9% of the individuals have the education level of \"college\". This means, if we predict all the individuals belong to the \"college\" category, our simple algorithm has an accuray of 46.9%. We call this the baseline accuracy."
   ]
  },
  {
   "cell_type": "code",
   "execution_count": 33,
   "metadata": {},
   "outputs": [
    {
     "name": "stdout",
     "output_type": "stream",
     "text": [
      "0.46922540697912823\n"
     ]
    }
   ],
   "source": [
    "# Finding out what portion of the individuals have the education level of \"college\"\n",
    "college_pop = equity_df[equity_df['education_level_code'] == 2].shape[0]\n",
    "total_pop = equity_df.shape[0] \n",
    "simplest_education_level_predictor_accuracy = college_pop/total_pop\n",
    "print(simplest_education_level_predictor_accuracy)"
   ]
  },
  {
   "cell_type": "markdown",
   "metadata": {},
   "source": [
    "In what follows, we train a KNN algorithm to predict the individual's education level based on gender, sexual orientation and ethnicity. "
   ]
  },
  {
   "cell_type": "code",
   "execution_count": 34,
   "metadata": {},
   "outputs": [
    {
     "name": "stdout",
     "output_type": "stream",
     "text": [
      "(9755, 3)\n",
      "0.4805740645822655\n"
     ]
    },
    {
     "data": {
      "image/png": "[encoded data removed]",
      "text/plain": [
       "<Figure size 432x288 with 1 Axes>"
      ]
     },
     "metadata": {
      "needs_background": "light"
     },
     "output_type": "display_data"
    }
   ],
   "source": [
    "# Importing the Scikit-learn module, normalizing the data, training and testing \n",
    "# a KNN model to predict education level based on ethnicity, gender and sexual orientation\n",
    "# and finding the optimal k\n",
    "\n",
    "from sklearn import preprocessing\n",
    "from sklearn.neighbors import KNeighborsClassifier\n",
    "from sklearn.model_selection import train_test_split\n",
    "from sklearn.metrics import accuracy_score\n",
    "\n",
    "feature_data = equity_df[['ethnicity_code', 'orientation_code', 'sex_code']]\n",
    "\n",
    "x = feature_data.values\n",
    "min_max_scaler = preprocessing.MinMaxScaler()\n",
    "x_scaled = min_max_scaler.fit_transform(x)\n",
    "feature_data = pd.DataFrame(x_scaled, columns=feature_data.columns)\n",
    "labels = equity_df['education_level_code']\n",
    "\n",
    "x_train, x_test, y_train, y_test = train_test_split(feature_data, labels, test_size=0.2, random_state=1)\n",
    "print(x_test.shape)\n",
    "\n",
    "scores = []\n",
    "for k in range(1, 501):\n",
    "    classifier = KNeighborsClassifier(n_neighbors=k)\n",
    "    classifier.fit(x_train, y_train)\n",
    "    scores.append(classifier.score(x_test, y_test))\n",
    "\n",
    "plt.plot(range(1, 501), scores)\n",
    "plt.xlabel('k')\n",
    "plt.ylabel('KNN Accuracy')\n",
    "\n",
    "print(max(scores))"
   ]
  },
  {
   "cell_type": "markdown",
   "metadata": {},
   "source": [
    "The KNN accuracy (i.e. 48%) is slightly larger than the baseline accuray (i.e. %46.9). In an ideal society that practices educational equity, having access to the gender, sexual orientation and ethnicity information should not effcet the baseline accuracy. The added accuracy is a result of educational inequity. This added accuray devided by the baseline accuracy which is 2.35% in CA can be thought of as some measure of educational inequity.  "
   ]
  },
  {
   "cell_type": "markdown",
   "metadata": {},
   "source": [
    "Age is not a factor in educational inequity. However, we are interested in finding how adding age to the inputs improves the KNN model accuray: "
   ]
  },
  {
   "cell_type": "code",
   "execution_count": 35,
   "metadata": {},
   "outputs": [
    {
     "name": "stdout",
     "output_type": "stream",
     "text": [
      "(9755, 4)\n",
      "0.5290620194771912\n"
     ]
    },
    {
     "data": {
      "image/png": "[encoded data removed]",
      "text/plain": [
       "<Figure size 432x288 with 1 Axes>"
      ]
     },
     "metadata": {
      "needs_background": "light"
     },
     "output_type": "display_data"
    }
   ],
   "source": [
    "# Finding out how adding age to the inputs improves the KNN model accuracy\n",
    "\n",
    "feature_data = equity_df[['age', 'ethnicity_code', 'orientation_code', 'sex_code']]\n",
    "\n",
    "x = feature_data.values\n",
    "min_max_scaler = preprocessing.MinMaxScaler()\n",
    "x_scaled = min_max_scaler.fit_transform(x)\n",
    "feature_data = pd.DataFrame(x_scaled, columns=feature_data.columns)\n",
    "labels = equity_df['education_level_code']\n",
    "\n",
    "x_train, x_test, y_train, y_test = train_test_split(feature_data, labels, test_size=0.2, random_state=1)\n",
    "print(x_test.shape)\n",
    "\n",
    "scores = []\n",
    "for k in range(1, 501):\n",
    "    classifier = KNeighborsClassifier(n_neighbors=k)\n",
    "    classifier.fit(x_train, y_train)\n",
    "    scores.append(classifier.score(x_test, y_test))\n",
    "\n",
    "plt.plot(range(1, 501), scores)\n",
    "plt.xlabel('k')\n",
    "plt.ylabel('KNN Accuracy')\n",
    "\n",
    "print(max(scores))"
   ]
  },
  {
   "cell_type": "markdown",
   "metadata": {},
   "source": [
    "Having access to the age information, boosts the KNN accuracy to 53%. "
   ]
  },
  {
   "cell_type": "markdown",
   "metadata": {},
   "source": [
    "# Conclusion"
   ]
  },
  {
   "cell_type": "markdown",
   "metadata": {},
   "source": [
    "In this project, we looked at the educational equity in CA based on the information on age, gender, sexual orientation, ethnicity and education level of approximately 50000 individuals using a dataset provided by OkCupid, an online dating app. \n",
    "\n",
    "We showed that ethnicity has a more significant effect on the education level distribution than gender and sexual orientation. On average, whites and asians have a higher level of education than other ethnicities. \n",
    "\n",
    "We then trained a KNN algorithm to predict the education level of individuals based on their gender, ethnicity and sexual orientation. In an ideal society that practices educational equity, the accuracy of the KNN model should not be higher than the baseline accuracy (which is equal to the population with the most common education level over the total population). The accuray of the KNN model turned out to be higher than the baseline accuray as a result of educational inequity. This added accuray devided by the baseline accuracy can be though of as some measure of educational inequity (2.35% in CA).   \n",
    "\n",
    "As next steps, It is necessary to analyze more data and verify the trends that we found in the current dataset. It would be interesting to compare educational inequity in CA with other states. We are also interested in gathering data on socioeconomic standing and investigating the effects of that on educational equity. "
   ]
  }
 ],
 "metadata": {
  "kernelspec": {
   "display_name": "Python 3",
   "language": "python",
   "name": "python3"
  },
  "language_info": {
   "codemirror_mode": {
    "name": "ipython",
    "version": 3
   },
   "file_extension": ".py",
   "mimetype": "text/x-python",
   "name": "python",
   "nbconvert_exporter": "python",
   "pygments_lexer": "ipython3",
   "version": "3.7.3"
  }
 },
 "nbformat": 4,
 "nbformat_minor": 2
}
